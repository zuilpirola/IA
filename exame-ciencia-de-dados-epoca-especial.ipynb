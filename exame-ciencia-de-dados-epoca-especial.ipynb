{
 "cells": [
  {
   "cell_type": "markdown",
   "id": "67e665ef",
   "metadata": {},
   "source": [
    "# Exame de Ciência de Dados"
   ]
  },
  {
   "cell_type": "markdown",
   "id": "5884a48d",
   "metadata": {},
   "source": [
    "## Instruções"
   ]
  },
  {
   "cell_type": "markdown",
   "id": "596cfae8",
   "metadata": {},
   "source": [
    "Este exame consiste em várias perguntas relacionadas à análise de um conjunto de dados sintético sobre a queima de gordura corporal. Precisará realizar análises estatísticas e interpretar os resultados. As respostas devem ser escritas nas células abaixo de cada pergunta, sempre com a devida justificação teórica.\n",
    "\n",
    "Só poderá consultar a documentação de Python, ou documentação de bibliotecas de Python que possa necessitar. Qualquer consulta a outra fonte invalida o teste."
   ]
  },
  {
   "cell_type": "markdown",
   "id": "0f7875dd",
   "metadata": {},
   "source": [
    "# Pergunta 0\n",
    "\n",
    "Na célula em baixo deverá carregar of ficheiro `synthetic_fat_burning_data.csv` num dataframe Pandas e observar as primeiras linhas de dados (2pt)."
   ]
  },
  {
   "cell_type": "code",
   "execution_count": null,
   "id": "24b4220c",
   "metadata": {},
   "outputs": [],
   "source": [
    "# Primeiro, vamos carregar os dados\n",
    "\n",
    "\n",
    "# Carregar o conjunto de dados\n",
    "\n",
    "\n",
    "# observar primeiras linhas do dataframe"
   ]
  },
  {
   "cell_type": "markdown",
   "id": "7b3d501a",
   "metadata": {},
   "source": [
    "## Pergunta 1"
   ]
  },
  {
   "cell_type": "markdown",
   "id": "eaf08d90",
   "metadata": {},
   "source": [
    "Analise as variáveis independentes (Idade, Peso, Altura, Horas de Exercício) individualmente. Para tal (a) calcule as estatísticas descritivas (média, mediana, desvio padrão, etc.) para cada variável e (b) interprete.\n",
    "\n",
    "(4 pt)"
   ]
  },
  {
   "cell_type": "code",
   "execution_count": null,
   "id": "09cb21b9",
   "metadata": {},
   "outputs": [],
   "source": [
    "# Resposta 1(a)\n",
    "# Cálculo as estatísticas descritivas\n"
   ]
  },
  {
   "cell_type": "markdown",
   "id": "cf253fd6",
   "metadata": {},
   "source": [
    "Resposta 1(b) Interpretação.\n",
    "\n",
    ".  \n",
    ".  Edite aqui."
   ]
  },
  {
   "cell_type": "markdown",
   "id": "2b9b5002",
   "metadata": {},
   "source": [
    "## Pergunta 2\n",
    "\n",
    "De forma analitica, utilize uma visualização para pensar se poderá existir alguma relação entre as variaveis `peso`e `horas de exericio`. Deverá produzir uma visualização adequada e interpretar a mesma (6 pt)"
   ]
  },
  {
   "cell_type": "code",
   "execution_count": null,
   "id": "e77677b3",
   "metadata": {},
   "outputs": [],
   "source": [
    "# Codigo para visualização aqui"
   ]
  },
  {
   "cell_type": "markdown",
   "id": "3616bf43",
   "metadata": {},
   "source": [
    "Edite aqui para interpretação"
   ]
  },
  {
   "cell_type": "markdown",
   "id": "bc654b32",
   "metadata": {},
   "source": [
    "## Pergunta 3"
   ]
  },
  {
   "cell_type": "markdown",
   "id": "bf3646ec",
   "metadata": {},
   "source": [
    "Qual é o teste estatístico mais apropriado para comparar as tendências centrais de variáveis entre os grupos (Controlo e Experimental)? Explique. (4pt)"
   ]
  },
  {
   "cell_type": "markdown",
   "id": "0746901f",
   "metadata": {},
   "source": [
    "Edite aqui para resposta à pergunta 3\n",
    "\n"
   ]
  },
  {
   "cell_type": "markdown",
   "id": "227f1e87",
   "metadata": {},
   "source": [
    "## Pergunta 4\n",
    "\n",
    "Realize o teste estatístico apropriado para comparar a variável 'Horas de Exercício' entre os grupos. Qual é o valor-p e como você interpreta este resultado? (6pt)"
   ]
  },
  {
   "cell_type": "code",
   "execution_count": null,
   "id": "b9c0197f",
   "metadata": {},
   "outputs": [],
   "source": [
    "# Resposta 4 (código )\n",
    "\n"
   ]
  },
  {
   "cell_type": "markdown",
   "id": "34f6ba11",
   "metadata": {},
   "source": [
    "Edite aqui para resposta à pergunta 4"
   ]
  },
  {
   "cell_type": "markdown",
   "id": "2fa0a377",
   "metadata": {},
   "source": [
    "## Pergunta 5\n",
    "\n",
    "Com base nos resultados anteriores, qual é a sua conclusão sobre a variável 'Horas de Exercício' entre os grupos Controle e Experimental? (2 pt)"
   ]
  },
  {
   "cell_type": "markdown",
   "id": "d2b5f16b",
   "metadata": {},
   "source": [
    "Edite aqui para resposta à pergunta 5\n"
   ]
  }
 ],
 "metadata": {
  "kernelspec": {
   "display_name": "data_science",
   "language": "python",
   "name": "python3"
  },
  "language_info": {
   "codemirror_mode": {
    "name": "ipython",
    "version": 3
   },
   "file_extension": ".py",
   "mimetype": "text/x-python",
   "name": "python",
   "nbconvert_exporter": "python",
   "pygments_lexer": "ipython3",
   "version": "3.11.0"
  }
 },
 "nbformat": 4,
 "nbformat_minor": 5
}
