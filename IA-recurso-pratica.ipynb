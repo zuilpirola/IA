{
 "cells": [
  {
   "cell_type": "markdown",
   "metadata": {},
   "source": [
    "# Inteligência Artificial exame recurso (prática)\n",
    "Esta é uma avaliação formal. Por favor, observe as seguintes regras durante toda a avaliação:\n",
    "\n",
    "1. Não podes falar com outros alunos depois de a avaliação começar.\n",
    "2. Haverá 15 minutos no início para colocares perguntas, e 5 minutos a meio, e outros 5 minutos perto do final do teste. Espera que o professor indique quando podes fazer perguntas.\n",
    "3. Podes consultar apenas a documentação do Python.\n",
    "4. Não podes consultar nenhum caderno (notebook) anterior que tenhas criado ou que te tenha sido partilhado.\n",
    "5. Todas as fórmulas matemáticas necessárias estão incluídas aqui.\n",
    "6. Podes ter apenas o Jupyter Python e um navegador apontado para a documentação do Python abertos. Qualquer outro separador ou aplicação aberta pode invalidar o teu teste.\n",
    "7. É proibida a distribuição dos conteúdos deste teste."
   ]
  },
  {
   "cell_type": "code",
   "execution_count": null,
   "metadata": {},
   "outputs": [],
   "source": [
    "# necessary imports\n",
    "\n",
    "from collections import OrderedDict\n",
    "from datasets import load_dataset\n",
    "import math"
   ]
  },
  {
   "cell_type": "markdown",
   "metadata": {},
   "source": [
    "# Parte I: Busca Informada\n",
    "(10pt)\n",
    "\n",
    "Nas células em baixo vai encontrar:\n",
    "\n",
    "1. Um grafo representado como lista de adjacências\n",
    "2. Código completo Dijkstra\n",
    "3. Tabela heuristica\n",
    "\n",
    "Deverá\n",
    "\n",
    "1. Fazer uma cópia do código Dijkstra e adaptar para torna-lo A*\n",
    "2. Executar ambos algoritmos com nó inicial `S`e nó objetivo `E` guardando o número total de iterações requeridas por cada algoritmo para completar a tarefa\n",
    "3. Comparar os valores obtidos em termos da teoria \n",
    "\n"
   ]
  },
  {
   "cell_type": "code",
   "execution_count": null,
   "metadata": {},
   "outputs": [],
   "source": [
    "# 1. Grafo \n",
    "\n",
    "\n",
    "g = {'S': {('A',7),('B',2),('C',3)},\n",
    "    'A': {('B',3),('D',4),('S',7)},\n",
    "    'B': {('A',3),('D',4),('H',1),('S',2)},\n",
    "    'C': {('L',2),('S',3)},\n",
    "    'D': {('A',4),('B',4),('F',5)},\n",
    "    'E': {('K',5),('G',2)},\n",
    "    'F': {('D',5),('H',4)},\n",
    "    'G': {('H',2),('E',2)},\n",
    "    'H': {('B',1),('F',4),('G',2)},\n",
    "    'I':{('L',4),('J',6),('K',4)},\n",
    "    'J':{('L',4),('I',6),('K',4)},\n",
    "    'K':{('I',4),('J',4),('E',5)},\n",
    "    'L':{('C',2),('J',4),('I',4)}\n",
    "}"
   ]
  },
  {
   "cell_type": "code",
   "execution_count": null,
   "metadata": {},
   "outputs": [],
   "source": [
    "# 2. Código Dijkstra\n",
    "\n",
    "\n",
    "#create data structure\n",
    "q = {x:[[],float('inf')] for x in g}\n",
    "\n",
    "for x in q:\n",
    "    if x == init:\n",
    "        q[init]=[[init],0]\n",
    "\n",
    "print(q)\n",
    "\n",
    "\n",
    "#counter\n",
    "count = 0\n",
    "\n",
    "\n",
    "#main\n",
    "while q:\n",
    "    print('---------')\n",
    "\n",
    "    count +=1\n",
    "    print(f\"Iteraçao {count}\")\n",
    "    print('---------')\n",
    "\n",
    "    print(\"Valor de q atual = \",q)\n",
    "\n",
    "    key_atual = list(q.keys())[0]\n",
    "    h = {key_atual:q[key_atual]}\n",
    "    print(\"h sendo processado:\",h)\n",
    "    print()\n",
    "\n",
    "    q.pop(key_atual)\n",
    "\n",
    "    if key_atual == goal:\n",
    "        print(\">>>>>>>>\",h)\n",
    "        break\n",
    "    else:\n",
    "\n",
    "        e = g[key_atual]\n",
    "\n",
    "        for exp_node in e:\n",
    "\n",
    "            for node in q:\n",
    "\n",
    "                if exp_node[0] == node:\n",
    "\n",
    "                    print(f\"Atual valor contido no nó '{exp_node[0]}' é {q[exp_node[0]][1]}\")\n",
    "                    print(\"Valor após a expansão é\",list(h.values())[0][1] + exp_node[1])\n",
    "\n",
    "                    if list(h.values())[0][1] + exp_node[1] < q[exp_node[0]][1]:\n",
    "\n",
    "                        print(\"O valor a ser expandido é menor que o valor atual\")\n",
    "\n",
    "                        q[exp_node[0]][1] = list(h.values())[0][1] + exp_node[1]\n",
    "\n",
    "                        q[exp_node[0]][0] = list(h.values())[0][0] + [node]\n",
    "\n",
    "                        print('Nó final com os valores atualizados', q[exp_node[0]])\n",
    "                        print('--')\n",
    "                        print()\n",
    "                    else:\n",
    "                        print(\"O valor a ser expandido é maior que o valor atual!\")\n",
    "                        print('--')\n",
    "                        print()\n",
    "\n",
    "\n",
    "        q = OrderedDict(sorted(q.items(), key=lambda x:x[1][1]))\n"
   ]
  },
  {
   "cell_type": "code",
   "execution_count": null,
   "metadata": {},
   "outputs": [],
   "source": [
    "# 3. Heuristica \n",
    "\n",
    "H = {'S': 10,\n",
    "    'A': 9,\n",
    "    'B': 7,\n",
    "    'C': 8,\n",
    "    'D': 8,\n",
    "    'E': 3,\n",
    "    'F': 6,\n",
    "    'G': 3,\n",
    "    'H': 6,\n",
    "    'I':4,\n",
    "    'J':4,\n",
    "    'K':5,\n",
    "    'L':6\n",
    "}"
   ]
  },
  {
   "cell_type": "code",
   "execution_count": null,
   "metadata": {},
   "outputs": [],
   "source": [
    "# Desenvolva a sua resposta aqui"
   ]
  },
  {
   "cell_type": "markdown",
   "metadata": {},
   "source": [
    "# Parte II: Procesamento de linguagem natural\n",
    "(10pt)\n",
    "\n",
    "A células em baixo vão instanciar um Pandas dataset bastante extenso. Deverá considerar como o seu corpus unicamente as primeiras 4000 linhas da coluna `sinopse`\n",
    "\n",
    "Calcule (usando código adequado) o TF-IDF do termo `controle` no documento 3999\n",
    "\n",
    "A fórmula do IDF é:\n",
    "\n",
    "$$IDF(w) = \\log \\left( \\frac{N}{df(w)} \\right)$$\n",
    "\n",
    "A função `log` foi importada através de importar `math` (ver imports)"
   ]
  },
  {
   "cell_type": "code",
   "execution_count": null,
   "metadata": {},
   "outputs": [],
   "source": [
    "# Desenvolver resposta aqui"
   ]
  }
 ],
 "metadata": {
  "language_info": {
   "name": "python"
  }
 },
 "nbformat": 4,
 "nbformat_minor": 2
}
