{
 "cells": [
  {
   "cell_type": "code",
   "execution_count": null,
   "metadata": {},
   "outputs": [],
   "source": [
    "# Imports etc."
   ]
  },
  {
   "cell_type": "markdown",
   "metadata": {},
   "source": [
    "# Sessão prática 6: Busca não informada"
   ]
  },
  {
   "cell_type": "markdown",
   "metadata": {},
   "source": [
    "## 1. Preambulo \n",
    "\n",
    "Investiga como funcionam as struturas `set` em Python, particulamente, se tivermos dois conjuntos  $a$ e $b$ que acontece quando fazemos  $a - b$? \n",
    "Que acontece se usamos a função `add` num conjunto?\n",
    "\n",
    "Investiga também a função `pop` aplicada a uma estrutura de tipo lista. Que acontece quando fazemos `pop()` numa lista? E quando fazemos `pop(0)`? Qual a diferença?\n",
    "\n"
   ]
  },
  {
   "cell_type": "code",
   "execution_count": null,
   "metadata": {},
   "outputs": [],
   "source": []
  },
  {
   "cell_type": "markdown",
   "metadata": {},
   "source": [
    "## 2. Exercício 1\n",
    "Usa estes conceitos para implementar DFS e BFS considerando o percurso no grafo que considera só os nodos visitados (e não os caminhos parciais)\n",
    "\n",
    "Usa o grafo embaixo para testar o teu código"
   ]
  },
  {
   "cell_type": "code",
   "execution_count": 1,
   "metadata": {},
   "outputs": [],
   "source": [
    "g = {\n",
    "    'A': ['B', 'C', 'E'],\n",
    "    'B': ['D', 'E'],\n",
    "    'C': ['F', 'G'],\n",
    "    'D': ['H'],\n",
    "    'E': ['D', 'F'],\n",
    "    'F': ['C'],\n",
    "    'G': ['F'],\n",
    "    'H': []\n",
    "}"
   ]
  },
  {
   "cell_type": "markdown",
   "metadata": {},
   "source": [
    "## Exercício 2\n",
    "\n",
    "Implementar a versão final de DFS / BFS que funciona com a queue que mantém os caminhos parcais, como estudamos na sessão teórica requer de alguns truques.\n",
    "Existem várias maneiras válidas para implementar estes algoritmos de busca informada.\n",
    "\n",
    "Investiga como é que funciona o `yield` em Python\n",
    "Investiga como poderias usar chamadas recursivas em Python\n",
    "\n",
    "Usando estes recursos tenta implementar uma versão simples de busca não informada que possa fazer DFS ou BFS."
   ]
  },
  {
   "cell_type": "code",
   "execution_count": null,
   "metadata": {},
   "outputs": [],
   "source": []
  }
 ],
 "metadata": {
  "kernelspec": {
   "display_name": "data_science",
   "language": "python",
   "name": "python3"
  },
  "language_info": {
   "codemirror_mode": {
    "name": "ipython",
    "version": 3
   },
   "file_extension": ".py",
   "mimetype": "text/x-python",
   "name": "python",
   "nbconvert_exporter": "python",
   "pygments_lexer": "ipython3",
   "version": "3.12.2"
  }
 },
 "nbformat": 4,
 "nbformat_minor": 2
}
