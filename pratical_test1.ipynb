{
 "cells": [
  {
   "cell_type": "code",
   "execution_count": null,
   "metadata": {},
   "outputs": [],
   "source": [
    "# Imports etc."
   ]
  },
  {
   "cell_type": "markdown",
   "metadata": {},
   "source": [
    "# Pratical test 1: Artificial Inteligence"
   ]
  },
  {
   "cell_type": "markdown",
   "metadata": {},
   "source": [
    "# Preliminary notes\n",
    "\n",
    "This is a formal evaluation. Please observe the following rules during the entire evaluation:\n",
    "\n",
    "1. You cannot speak to other students once that evaluation starts.\n",
    "2. There will be 15 minutes at the beginning where you can ask questions, and 5 min in the middle, and another 5 min towards the end of the test. Wait for your professor to indicate when you can ask questions.\n",
    "3. You can only consult the Python documentation site.\n",
    "4. You cannot consult any previous notebooks you created or shared with you.\n",
    "5. All the math formulae you need are included here.\n",
    "6. You can only have your Jupyter Python and a broswer pointing to the Python documentation open. Any other open tabs or apps can invalidate your test.\n",
    "7. Distributing the contents of this test is forbidden."
   ]
  },
  {
   "cell_type": "markdown",
   "metadata": {},
   "source": [
    "## 1. Recursive\n",
    "\n",
    "Consider the DFS (Depth First Search) code below:\n",
    "\n"
   ]
  },
  {
   "cell_type": "code",
   "execution_count": 3,
   "metadata": {},
   "outputs": [
    {
     "name": "stdout",
     "output_type": "stream",
     "text": [
      "visiting node A\n",
      "q is ['B', 'C', 'E']\n",
      "visiting node B\n",
      "q is ['D', 'E', 'C', 'E']\n",
      "visiting node D\n",
      "q is ['H', 'E', 'C', 'E']\n",
      "visiting node H\n",
      "q is ['E', 'C', 'E']\n",
      "visiting node E\n",
      "q is ['F', 'C', 'E']\n",
      "visiting node F\n",
      "q is ['C', 'C', 'E']\n",
      "visiting node C\n",
      "q is ['G', 'C', 'E']\n",
      "visiting node G\n",
      "found goal node\n",
      "['F', 'C', 'D', 'B', 'A', 'E', 'H']\n"
     ]
    }
   ],
   "source": [
    "g = {\n",
    "    'A': ['B', 'C', 'E'],\n",
    "    'B': ['D', 'E'],\n",
    "    'C': ['F', 'G'],\n",
    "    'D': ['H'],\n",
    "    'E': ['D', 'F'],\n",
    "    'F': ['C'],\n",
    "    'G': ['F'],\n",
    "    'H': []\n",
    "}\n",
    "\n",
    "def dfs(neighbour_list, root_node, goal):\n",
    "\n",
    "    #nós ja visitados\n",
    "    visited_nodes = set()\n",
    "\n",
    "    # lista iniciada a partir do nó inicial\n",
    "    q = [root_node]\n",
    "\n",
    "    #enquanto q existir e a flag found for false\n",
    "    while q:\n",
    "\n",
    "        #exclui-se o ultimo elemento da q\n",
    "        node = q.pop(0)\n",
    "\n",
    "        #print do visiting node\n",
    "        print('visiting node', node)\n",
    "\n",
    "        #se o nó analisado for o nó buscado\n",
    "        if node == goal:\n",
    "            #print para avisar que achou o nó\n",
    "            print('found goal node')\n",
    "            break\n",
    "\n",
    "        #caso o nó analisado nao seja o nó buscado\n",
    "        elif node not in visited_nodes:\n",
    "            #adicionar o nó analisado na lista de nós visitados\n",
    "            visited_nodes.add(node)\n",
    "\n",
    "            q = sorted(set(neighbour_list[node]) - visited_nodes) + q\n",
    "\n",
    "            print('q is', q)\n",
    "            \n",
    "    return list(visited_nodes)\n",
    "\n",
    "print(dfs(g, 'A', 'G'))"
   ]
  },
  {
   "cell_type": "markdown",
   "metadata": {},
   "source": [
    "Rewrite the code above making it a recursive function (without using `while`)."
   ]
  },
  {
   "cell_type": "code",
   "execution_count": 4,
   "metadata": {},
   "outputs": [],
   "source": []
  },
  {
   "cell_type": "markdown",
   "metadata": {},
   "source": [
    "## 2. Stack in DFS\n",
    "The DFS approach uses stacks as a way to define the next node to be analyzed. Indicate and explain using the code you created above where it uses stacks."
   ]
  },
  {
   "cell_type": "code",
   "execution_count": 6,
   "metadata": {},
   "outputs": [],
   "source": []
  },
  {
   "cell_type": "markdown",
   "metadata": {},
   "source": [
    "## 3. Manipulando pilhas"
   ]
  },
  {
   "cell_type": "markdown",
   "metadata": {},
   "source": [
    "Let's work more broadly with stacks. Write 2 functions:\n",
    "\n",
    "- One that stacks data into a stack;\n",
    "- One that unstacks and returns the unstacked data.\n",
    "\n",
    "\n",
    "Tip: use queue objects."
   ]
  },
  {
   "cell_type": "code",
   "execution_count": 7,
   "metadata": {},
   "outputs": [],
   "source": []
  },
  {
   "cell_type": "markdown",
   "metadata": {},
   "source": [
    "## 4. BFS"
   ]
  },
  {
   "cell_type": "markdown",
   "metadata": {},
   "source": [
    "What adaptation would you make to the line identified in exercise 2 so that it becomes a BFS"
   ]
  },
  {
   "cell_type": "code",
   "execution_count": 9,
   "metadata": {},
   "outputs": [],
   "source": []
  }
 ],
 "metadata": {
  "kernelspec": {
   "display_name": "data_science",
   "language": "python",
   "name": "python3"
  },
  "language_info": {
   "codemirror_mode": {
    "name": "ipython",
    "version": 3
   },
   "file_extension": ".py",
   "mimetype": "text/x-python",
   "name": "python",
   "nbconvert_exporter": "python",
   "pygments_lexer": "ipython3",
   "version": "3.12.2"
  }
 },
 "nbformat": 4,
 "nbformat_minor": 2
}
