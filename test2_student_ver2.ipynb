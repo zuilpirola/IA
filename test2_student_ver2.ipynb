{
  "cells": [
    {
      "cell_type": "markdown",
      "metadata": {
        "id": "Z124hDRI00wD"
      },
      "source": [
        "# Pratical test 2: Artificial Inteligence"
      ]
    },
    {
      "cell_type": "markdown",
      "metadata": {},
      "source": [
        "# Preliminary notes\n",
        "\n",
        "This is a formal evaluation. It accounts for 30% of your final score in the practical component of Artificial Inteligence module. Please observe the following rules during the entire evaluation:\n",
        "\n",
        "1. You cannot speak to other students once that evaluation starts.\n",
        "2. There will be 15 minutes at the beginning where you can ask questions, and 5 min in the middle, and another 5 min towards the end of the test. Wait for your professor to indicate when you can ask questions.\n",
        "3. You can only consult the Python documentation site.\n",
        "4. You cannot consult any previous notebooks you created or shared with you.\n",
        "5. All the math formulae you need are included here.\n",
        "6. You can only have your Jupyter Python and a broswer pointing to the Python documentation open. Any other open tabs or apps can invalidate your test.\n",
        "7. Distributing the contents of this test is forbidden."
      ]
    },
    {
      "cell_type": "markdown",
      "metadata": {
        "id": "jC1f_rgT00wF"
      },
      "source": [
        "# 0 - Libraries"
      ]
    },
    {
      "cell_type": "code",
      "execution_count": 1,
      "metadata": {
        "id": "oLj91Zfl00wF"
      },
      "outputs": [],
      "source": [
        "from collections import OrderedDict\n",
        "import networkx as nx\n",
        "#add here"
      ]
    },
    {
      "cell_type": "markdown",
      "metadata": {
        "id": "0VPQzNaX00wG"
      },
      "source": [
        "# 1 - Dijkstra"
      ]
    },
    {
      "cell_type": "markdown",
      "metadata": {},
      "source": [
        "### Support Material"
      ]
    },
    {
      "cell_type": "markdown",
      "metadata": {},
      "source": [
        "Consider the structure of the graph below"
      ]
    },
    {
      "cell_type": "code",
      "execution_count": 2,
      "metadata": {
        "id": "CMKQx3m000wG"
      },
      "outputs": [],
      "source": [
        "#graph structure\n",
        "g = {'S': {('A',7),('B',2),('C',3)},\n",
        "    'A': {('B',3),('D',4),('S',7)},\n",
        "    'B': {('A',3),('D',4),('H',1),('S',2)},\n",
        "    'C': {('L',2),('S',3)},\n",
        "    'D': {('A',4),('B',4),('F',5)},\n",
        "    'E': {('K',5),('G',2)},\n",
        "    'F': {('D',5),('H',4)},\n",
        "    'G': {('H',2),('E',2)},\n",
        "    'H': {('B',1),('F',4),('G',2)},\n",
        "    'I':{('L',4),('J',6),('K',4)},\n",
        "    'J':{('L',4),('I',6),('K',4)},\n",
        "    'K':{('I',4),('J',4),('E',5)},\n",
        "    'L':{('C',2),('J',4),('I',4)}\n",
        "}\n"
      ]
    },
    {
      "cell_type": "markdown",
      "metadata": {
        "id": "9V-ILfw100wG"
      },
      "source": [
        "![alt text](grafo-1.png)"
      ]
    },
    {
      "cell_type": "markdown",
      "metadata": {},
      "source": [
        "Start and end nodes:"
      ]
    },
    {
      "cell_type": "code",
      "execution_count": 3,
      "metadata": {
        "id": "809ScBjb00wG"
      },
      "outputs": [],
      "source": [
        "init = 'S'\n",
        "goal = 'E'"
      ]
    },
    {
      "cell_type": "markdown",
      "metadata": {
        "id": "jOm00rY700wH"
      },
      "source": [
        "Structure of cards used in the Dijkstra algorithm"
      ]
    },
    {
      "cell_type": "code",
      "execution_count": 4,
      "metadata": {
        "id": "QWae73Et00wH",
        "outputId": "a4897bab-b238-4359-da06-7c03d2825152"
      },
      "outputs": [],
      "source": [
        "#creating the card of all nodes\n",
        "q = {x:[[],float('inf')] for x in g}\n",
        "\n",
        "#starting the initial card\n",
        "for x in q:\n",
        "    if x == init:\n",
        "        q[init]=[[init],0]\n"
      ]
    },
    {
      "cell_type": "markdown",
      "metadata": {
        "id": "G635Zbh700wH"
      },
      "source": [
        "Main algorithm"
      ]
    },
    {
      "cell_type": "code",
      "execution_count": 5,
      "metadata": {
        "id": "vIdGyYbq00wI",
        "outputId": "54bfa63f-e416-492b-e683-4ab97de34f58"
      },
      "outputs": [
        {
          "name": "stdout",
          "output_type": "stream",
          "text": [
            "---------\n",
            "Iteraçao 1\n",
            "---------\n",
            "Valor de q atual =  {'S': [['S'], 0], 'A': [[], inf], 'B': [[], inf], 'C': [[], inf], 'D': [[], inf], 'E': [[], inf], 'F': [[], inf], 'G': [[], inf], 'H': [[], inf], 'I': [[], inf], 'J': [[], inf], 'K': [[], inf], 'L': [[], inf]}\n",
            "h sendo processado: {'S': [['S'], 0]}\n",
            "\n",
            "Atual valor contido no nó 'B' é inf\n",
            "Valor após a expansão é 2\n",
            "O valor a ser expandido é menor que o valor atual\n",
            "Nó final com os valores atualizados [['S', 'B'], 2]\n",
            "--\n",
            "\n",
            "Atual valor contido no nó 'A' é inf\n",
            "Valor após a expansão é 7\n",
            "O valor a ser expandido é menor que o valor atual\n",
            "Nó final com os valores atualizados [['S', 'A'], 7]\n",
            "--\n",
            "\n",
            "Atual valor contido no nó 'C' é inf\n",
            "Valor após a expansão é 3\n",
            "O valor a ser expandido é menor que o valor atual\n",
            "Nó final com os valores atualizados [['S', 'C'], 3]\n",
            "--\n",
            "\n",
            "---------\n",
            "Iteraçao 2\n",
            "---------\n",
            "Valor de q atual =  OrderedDict([('B', [['S', 'B'], 2]), ('C', [['S', 'C'], 3]), ('A', [['S', 'A'], 7]), ('D', [[], inf]), ('E', [[], inf]), ('F', [[], inf]), ('G', [[], inf]), ('H', [[], inf]), ('I', [[], inf]), ('J', [[], inf]), ('K', [[], inf]), ('L', [[], inf])])\n",
            "h sendo processado: {'B': [['S', 'B'], 2]}\n",
            "\n",
            "Atual valor contido no nó 'A' é 7\n",
            "Valor após a expansão é 5\n",
            "O valor a ser expandido é menor que o valor atual\n",
            "Nó final com os valores atualizados [['S', 'B', 'A'], 5]\n",
            "--\n",
            "\n",
            "Atual valor contido no nó 'H' é inf\n",
            "Valor após a expansão é 3\n",
            "O valor a ser expandido é menor que o valor atual\n",
            "Nó final com os valores atualizados [['S', 'B', 'H'], 3]\n",
            "--\n",
            "\n",
            "Atual valor contido no nó 'D' é inf\n",
            "Valor após a expansão é 6\n",
            "O valor a ser expandido é menor que o valor atual\n",
            "Nó final com os valores atualizados [['S', 'B', 'D'], 6]\n",
            "--\n",
            "\n",
            "---------\n",
            "Iteraçao 3\n",
            "---------\n",
            "Valor de q atual =  OrderedDict([('C', [['S', 'C'], 3]), ('H', [['S', 'B', 'H'], 3]), ('A', [['S', 'B', 'A'], 5]), ('D', [['S', 'B', 'D'], 6]), ('E', [[], inf]), ('F', [[], inf]), ('G', [[], inf]), ('I', [[], inf]), ('J', [[], inf]), ('K', [[], inf]), ('L', [[], inf])])\n",
            "h sendo processado: {'C': [['S', 'C'], 3]}\n",
            "\n",
            "Atual valor contido no nó 'L' é inf\n",
            "Valor após a expansão é 5\n",
            "O valor a ser expandido é menor que o valor atual\n",
            "Nó final com os valores atualizados [['S', 'C', 'L'], 5]\n",
            "--\n",
            "\n",
            "---------\n",
            "Iteraçao 4\n",
            "---------\n",
            "Valor de q atual =  OrderedDict([('H', [['S', 'B', 'H'], 3]), ('A', [['S', 'B', 'A'], 5]), ('L', [['S', 'C', 'L'], 5]), ('D', [['S', 'B', 'D'], 6]), ('E', [[], inf]), ('F', [[], inf]), ('G', [[], inf]), ('I', [[], inf]), ('J', [[], inf]), ('K', [[], inf])])\n",
            "h sendo processado: {'H': [['S', 'B', 'H'], 3]}\n",
            "\n",
            "Atual valor contido no nó 'F' é inf\n",
            "Valor após a expansão é 7\n",
            "O valor a ser expandido é menor que o valor atual\n",
            "Nó final com os valores atualizados [['S', 'B', 'H', 'F'], 7]\n",
            "--\n",
            "\n",
            "Atual valor contido no nó 'G' é inf\n",
            "Valor após a expansão é 5\n",
            "O valor a ser expandido é menor que o valor atual\n",
            "Nó final com os valores atualizados [['S', 'B', 'H', 'G'], 5]\n",
            "--\n",
            "\n",
            "---------\n",
            "Iteraçao 5\n",
            "---------\n",
            "Valor de q atual =  OrderedDict([('A', [['S', 'B', 'A'], 5]), ('L', [['S', 'C', 'L'], 5]), ('G', [['S', 'B', 'H', 'G'], 5]), ('D', [['S', 'B', 'D'], 6]), ('F', [['S', 'B', 'H', 'F'], 7]), ('E', [[], inf]), ('I', [[], inf]), ('J', [[], inf]), ('K', [[], inf])])\n",
            "h sendo processado: {'A': [['S', 'B', 'A'], 5]}\n",
            "\n",
            "Atual valor contido no nó 'D' é 6\n",
            "Valor após a expansão é 9\n",
            "O valor a ser expandido é maior que o valor atual!\n",
            "--\n",
            "\n",
            "---------\n",
            "Iteraçao 6\n",
            "---------\n",
            "Valor de q atual =  OrderedDict([('L', [['S', 'C', 'L'], 5]), ('G', [['S', 'B', 'H', 'G'], 5]), ('D', [['S', 'B', 'D'], 6]), ('F', [['S', 'B', 'H', 'F'], 7]), ('E', [[], inf]), ('I', [[], inf]), ('J', [[], inf]), ('K', [[], inf])])\n",
            "h sendo processado: {'L': [['S', 'C', 'L'], 5]}\n",
            "\n",
            "Atual valor contido no nó 'J' é inf\n",
            "Valor após a expansão é 9\n",
            "O valor a ser expandido é menor que o valor atual\n",
            "Nó final com os valores atualizados [['S', 'C', 'L', 'J'], 9]\n",
            "--\n",
            "\n",
            "Atual valor contido no nó 'I' é inf\n",
            "Valor após a expansão é 9\n",
            "O valor a ser expandido é menor que o valor atual\n",
            "Nó final com os valores atualizados [['S', 'C', 'L', 'I'], 9]\n",
            "--\n",
            "\n",
            "---------\n",
            "Iteraçao 7\n",
            "---------\n",
            "Valor de q atual =  OrderedDict([('G', [['S', 'B', 'H', 'G'], 5]), ('D', [['S', 'B', 'D'], 6]), ('F', [['S', 'B', 'H', 'F'], 7]), ('I', [['S', 'C', 'L', 'I'], 9]), ('J', [['S', 'C', 'L', 'J'], 9]), ('E', [[], inf]), ('K', [[], inf])])\n",
            "h sendo processado: {'G': [['S', 'B', 'H', 'G'], 5]}\n",
            "\n",
            "Atual valor contido no nó 'E' é inf\n",
            "Valor após a expansão é 7\n",
            "O valor a ser expandido é menor que o valor atual\n",
            "Nó final com os valores atualizados [['S', 'B', 'H', 'G', 'E'], 7]\n",
            "--\n",
            "\n",
            "---------\n",
            "Iteraçao 8\n",
            "---------\n",
            "Valor de q atual =  OrderedDict([('D', [['S', 'B', 'D'], 6]), ('F', [['S', 'B', 'H', 'F'], 7]), ('E', [['S', 'B', 'H', 'G', 'E'], 7]), ('I', [['S', 'C', 'L', 'I'], 9]), ('J', [['S', 'C', 'L', 'J'], 9]), ('K', [[], inf])])\n",
            "h sendo processado: {'D': [['S', 'B', 'D'], 6]}\n",
            "\n",
            "Atual valor contido no nó 'F' é 7\n",
            "Valor após a expansão é 11\n",
            "O valor a ser expandido é maior que o valor atual!\n",
            "--\n",
            "\n",
            "---------\n",
            "Iteraçao 9\n",
            "---------\n",
            "Valor de q atual =  OrderedDict([('F', [['S', 'B', 'H', 'F'], 7]), ('E', [['S', 'B', 'H', 'G', 'E'], 7]), ('I', [['S', 'C', 'L', 'I'], 9]), ('J', [['S', 'C', 'L', 'J'], 9]), ('K', [[], inf])])\n",
            "h sendo processado: {'F': [['S', 'B', 'H', 'F'], 7]}\n",
            "\n",
            "---------\n",
            "Iteraçao 10\n",
            "---------\n",
            "Valor de q atual =  OrderedDict([('E', [['S', 'B', 'H', 'G', 'E'], 7]), ('I', [['S', 'C', 'L', 'I'], 9]), ('J', [['S', 'C', 'L', 'J'], 9]), ('K', [[], inf])])\n",
            "h sendo processado: {'E': [['S', 'B', 'H', 'G', 'E'], 7]}\n",
            "\n",
            ">>>>>>>> {'E': [['S', 'B', 'H', 'G', 'E'], 7]}\n"
          ]
        }
      ],
      "source": [
        "#contador para mostras as iteracoes\n",
        "count = 0\n",
        "\n",
        "#execute q até que q nao exista\n",
        "while q:\n",
        "    print('---------')\n",
        "\n",
        "    #adiciona um no contador para imprimir o cabeçalho\n",
        "    count +=1\n",
        "    print(f\"Iteraçao {count}\")\n",
        "    print('---------')\n",
        "\n",
        "    #print do q atual para comparar com o slide\n",
        "    print(\"Valor de q atual = \",q)\n",
        "\n",
        "    #criacao do head\n",
        "    key_atual = list(q.keys())[0]\n",
        "    h = {key_atual:q[key_atual]}\n",
        "    print(\"h sendo processado:\",h)\n",
        "    print()\n",
        "\n",
        "    #excluir o head atual\n",
        "    #como é um dicionário ele vai excluir a partir da key\n",
        "    q.pop(key_atual)\n",
        "\n",
        "\n",
        "    #se chegar ao objetivo\n",
        "    if key_atual == goal:\n",
        "        #imprime o path\n",
        "        print(\">>>>>>>>\",h)\n",
        "        #sai do while e finaliza o programa\n",
        "        break\n",
        "    else:\n",
        "        #expandir a partir da key de head\n",
        "        e = g[key_atual]\n",
        "\n",
        "        #para cada nó expandido em e\n",
        "        for exp_node in e:\n",
        "            #correr todos os keys do dicionário para atualizar o cartao dos nós\n",
        "            for node in q:\n",
        "                #quando encontrar um nó compatível com exp_node\n",
        "                if exp_node[0] == node:\n",
        "\n",
        "                    #Atual valor contido no nó\n",
        "                    print(f\"Atual valor contido no nó '{exp_node[0]}' é {q[exp_node[0]][1]}\")\n",
        "\n",
        "                    #Valor a ser expandido\n",
        "                    print(\"Valor após a expansão é\",list(h.values())[0][1] + exp_node[1])\n",
        "\n",
        "                    #se o valor adicionado for menor que o valor atual\n",
        "                    if list(h.values())[0][1] + exp_node[1] < q[exp_node[0]][1]:\n",
        "\n",
        "                        #print do aviso\n",
        "                        print(\"O valor a ser expandido é menor que o valor atual\")\n",
        "\n",
        "                        #atualizar o valor do caminho\n",
        "                        q[exp_node[0]][1] = list(h.values())[0][1] + exp_node[1]\n",
        "\n",
        "                        #contatena as listas do path\n",
        "                        q[exp_node[0]][0] = list(h.values())[0][0] + [node]\n",
        "\n",
        "                        print('Nó final com os valores atualizados',q[exp_node[0]])\n",
        "                        print('--')\n",
        "                        print()\n",
        "                    else:\n",
        "                        print(\"O valor a ser expandido é maior que o valor atual!\")\n",
        "                        print('--')\n",
        "                        print()\n",
        "\n",
        "\n",
        "\n",
        "        q = OrderedDict(sorted(q.items(), key=lambda x:x[1][1]))\n",
        "\n",
        "\n",
        "\n"
      ]
    },
    {
      "cell_type": "markdown",
      "metadata": {},
      "source": [
        "### a) According to the algorithm described above, how many iterations are required for traverse from the initial node to the final node?"
      ]
    },
    {
      "cell_type": "code",
      "execution_count": null,
      "metadata": {},
      "outputs": [],
      "source": []
    },
    {
      "cell_type": "markdown",
      "metadata": {
        "id": "HRcI9USW00wI"
      },
      "source": [
        "### b) Utilizing the provided code above, proceed with implementing the following heuristic (H) as demonstrated in A-STAR:"
      ]
    },
    {
      "cell_type": "code",
      "execution_count": 6,
      "metadata": {
        "id": "jhaNe3Bi00wI"
      },
      "outputs": [],
      "source": [
        "H = {'S': 10,\n",
        "    'A': 9,\n",
        "    'B': 7,\n",
        "    'C': 8,\n",
        "    'D': 8,\n",
        "    'E': 3,\n",
        "    'F': 6,\n",
        "    'G': 3,\n",
        "    'H': 6,\n",
        "    'I':4,\n",
        "    'J':4,\n",
        "    'K':5,\n",
        "    'L':6\n",
        "}"
      ]
    },
    {
      "cell_type": "code",
      "execution_count": null,
      "metadata": {
        "id": "tCGuAmdP00wJ",
        "outputId": "83e62030-a0a6-4cfd-e3a3-6ed43684dcaa"
      },
      "outputs": [],
      "source": []
    },
    {
      "cell_type": "markdown",
      "metadata": {},
      "source": [
        "### C) How did the number of iterations change when comparing the solutions observed in letter a) with those observed after applying heuristics? Why?"
      ]
    },
    {
      "cell_type": "code",
      "execution_count": null,
      "metadata": {
        "id": "mDEZpO1D00wJ"
      },
      "outputs": [],
      "source": []
    },
    {
      "cell_type": "markdown",
      "metadata": {},
      "source": [
        "# 2 - Minimax"
      ]
    },
    {
      "cell_type": "markdown",
      "metadata": {},
      "source": [
        "Consider the graph below:"
      ]
    },
    {
      "cell_type": "code",
      "execution_count": 7,
      "metadata": {},
      "outputs": [
        {
          "name": "stdout",
          "output_type": "stream",
          "text": [
            "Nodes: [(0, {'value': None}), (1, {'value': None}), (2, {'value': None}), (3, {'value': 0}), (4, {'value': 4}), (5, {'value': None}), (6, {'value': 4}), (7, {'value': -8}), (8, {'value': None}), (9, {'value': None}), (10, {'value': 7}), (11, {'value': -4}), (12, {'value': None}), (13, {'value': -10}), (14, {'value': 5})]\n",
            "Edges: [(0, 1), (0, 8), (1, 2), (1, 5), (2, 3), (2, 4), (5, 6), (5, 7), (8, 9), (8, 12), (9, 10), (9, 11), (12, 13), (12, 14)]\n"
          ]
        }
      ],
      "source": [
        "#list of edges\n",
        "graph = [(0, 1), (1, 2), (2, 3), (2, 4), (1, 5), (5, 6), (5, 7), (0, 8), (8, 9), (9, 10), (9, 11), (8, 12), (12, 13), (12, 14)]\n",
        "\n",
        "#values of each node\n",
        "labels_dic = {0: None,\n",
        "                1: None,\n",
        "                2: None,\n",
        "                3: 0,\n",
        "                4: 4,\n",
        "                5: None,\n",
        "                6: 4,\n",
        "                7: -8,\n",
        "                8: None,\n",
        "                9: None,\n",
        "                10: 7,\n",
        "                11: -4,\n",
        "                12: None,\n",
        "                13: -10,\n",
        "                14: 5\n",
        "                }\n",
        "\n",
        "\n",
        "#cria o grafo\n",
        "G = nx.DiGraph()\n",
        "\n",
        "#insere os nós e os edges\n",
        "G.add_edges_from(graph)\n",
        "\n",
        "#atribui valor ao grafo\n",
        "for node in G:\n",
        "    G.nodes[node][\"value\"] = labels_dic[node]\n",
        "\n",
        "\n",
        "print(\"Nodes:\", G.nodes(data=True))\n",
        "print(\"Edges:\", G.edges())"
      ]
    },
    {
      "cell_type": "markdown",
      "metadata": {},
      "source": [
        "### a) The code provided below is an implementation of the minimax algorithm. However, the student who wrote it made several mistakes. You will correct the code and explain the errors encountered before running it. Additionally, Determine which path node 1 should choose if maxplayer."
      ]
    },
    {
      "cell_type": "code",
      "execution_count": 20,
      "metadata": {},
      "outputs": [],
      "source": [
        "def minimax(G, n, player='maxplayer'):\n",
        "\n",
        "    #recebe como parâmetro:\n",
        "    #G = Grafo\n",
        "    #n = nó analisado\n",
        "    #player = caracteristica do player naquele nó\n",
        "\n",
        "\n",
        "    def _minimax(G, n, player):\n",
        "        # Vai descendo os nós até achar um value\n",
        "        if G.nodes[n][\"value\"]:\n",
        "            return G.nodes[n][\"value\"]\n",
        "\n",
        "\n",
        "        if player == 'maxplayer':\n",
        "            #funcao player max\n",
        "            #imaginando um valor muito baixo\n",
        "            bestv = float(\"-inf\")\n",
        "            #para cada filho\n",
        "            for child in G.successors(n):\n",
        "                #pega o valor contido no nó\n",
        "                v = _minimax(G, child, 'minplayer')\n",
        "                bestv = min(bestv, v)\n",
        "                print(f'Entrou no max eo valor analisado é {child,v}')\n",
        "\n",
        "            print(f'No final ele optou por {bestv}')\n",
        "\n",
        "        else:\n",
        "            #funcao player min\n",
        "            #imaginando um valor muito alto\n",
        "            bestv = float(\"inf\")\n",
        "            #para cada filho\n",
        "            for child in G.successors(n):\n",
        "                #pega o valor contido no nó\n",
        "                v = _minimax(G, n, 'maxplayer')\n",
        "                bestv = max(bestv, v)\n",
        "                print(f'Entrou no min eo valor analisado é {child,v}')\n",
        "\n",
        "            print(f'No final ele optou por {bestv}')\n",
        "\n",
        "\n",
        "        return bestv\n",
        "\n",
        "    #inicia no nó foco e se expande para os nós seguintes com base na caracteristica do player\n",
        "\n",
        "    if player=='maxplayer':\n",
        "\n",
        "      #inicia as variaveis de saida\n",
        "      #melhor movimento\n",
        "      best_move = None\n",
        "      #melhor numero numero muito pequeno\n",
        "      bestv = float(\"-inf\")\n",
        "\n",
        "\n",
        "      #para cada sucessor do nó de caracteristica maxima aplica-se um min\n",
        "      for child in G.successors(n):\n",
        "          print()\n",
        "          print(f\"Nó filho analisado: {child}\")\n",
        "          #minplayer\n",
        "          v = _minimax(G, child, 'minplayer')\n",
        "          #se é um max portanto ele quer ficar com o valor maior\n",
        "          if v > bestv:\n",
        "              best_move = child\n",
        "              bestv = v\n",
        "\n",
        "    else:\n",
        "\n",
        "\n",
        "      #melhor movimento\n",
        "      best_move = None\n",
        "      #melhor numero numero muito grande\n",
        "      bestv = float(\"inf\")\n",
        "\n",
        "      #para cada sucessor do nó de caracteristica minima aplica-se um max\n",
        "      for child in G.successors(n):\n",
        "          print()\n",
        "          print(f\"Nó filho analisado: {child}\")\n",
        "\n",
        "          v = _minimax(G, child, 'maxplayer')\n",
        "          if v < bestv:\n",
        "\n",
        "              best_move = child\n",
        "              bestv = v\n",
        "              print(f\"até o momento({best_move,bestv})\")\n",
        "\n",
        "\n",
        "    return (best_move, bestv)"
      ]
    },
    {
      "cell_type": "code",
      "execution_count": null,
      "metadata": {},
      "outputs": [],
      "source": []
    }
  ],
  "metadata": {
    "colab": {
      "provenance": []
    },
    "kernelspec": {
      "display_name": "data_science",
      "language": "python",
      "name": "python3"
    },
    "language_info": {
      "codemirror_mode": {
        "name": "ipython",
        "version": 3
      },
      "file_extension": ".py",
      "mimetype": "text/x-python",
      "name": "python",
      "nbconvert_exporter": "python",
      "pygments_lexer": "ipython3",
      "version": "3.10.0"
    }
  },
  "nbformat": 4,
  "nbformat_minor": 0
}
