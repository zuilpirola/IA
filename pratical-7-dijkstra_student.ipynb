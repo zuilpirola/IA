{
 "cells": [
  {
   "cell_type": "markdown",
   "metadata": {},
   "source": [
    "# Representaçao de Grafos agora com pesos"
   ]
  },
  {
   "cell_type": "markdown",
   "metadata": {},
   "source": [
    "# Bibliotecas"
   ]
  },
  {
   "cell_type": "code",
   "execution_count": 1,
   "metadata": {},
   "outputs": [],
   "source": [
    "from collections import OrderedDict"
   ]
  },
  {
   "cell_type": "markdown",
   "metadata": {},
   "source": [
    "# Estrutura do Grafo"
   ]
  },
  {
   "cell_type": "code",
   "execution_count": 2,
   "metadata": {},
   "outputs": [],
   "source": [
    "#estrutura do grafo dos slide como exemplo\n",
    "g = {'S': {('A',7),('B',2),('C',3)},\n",
    "    'A': {('B',3),('D',4),('S',7)},\n",
    "    'B': {('A',3),('D',4),('H',1),('S',2)},\n",
    "    'C': {('L',2),('S',3)},\n",
    "    'D': {('A',4),('B',4),('F',5)},\n",
    "    'E': {('K',5),('G',2)},\n",
    "    'F': {('D',5),('H',4)},\n",
    "    'G': {('H',2),('E',2)},\n",
    "    'H': {('B',1),('F',4),('G',2)},\n",
    "    'I':{('L',4),('J',6),('K',4)},\n",
    "    'J':{('L',4),('I',6),('K',4)},\n",
    "    'K':{('I',4),('J',4),('E',5)},\n",
    "    'L':{('C',2),('J',4),('I',4)}\n",
    "}\n"
   ]
  },
  {
   "cell_type": "markdown",
   "metadata": {},
   "source": [
    "![alt text](grafo-1-1.png)"
   ]
  },
  {
   "cell_type": "markdown",
   "metadata": {},
   "source": [
    "# Primeira abordagem"
   ]
  },
  {
   "cell_type": "markdown",
   "metadata": {},
   "source": [
    "## Indicando os nós iniciais e finais"
   ]
  },
  {
   "cell_type": "code",
   "execution_count": 3,
   "metadata": {},
   "outputs": [],
   "source": [
    "init = 'S'\n",
    "goal = 'E'"
   ]
  },
  {
   "cell_type": "markdown",
   "metadata": {},
   "source": [
    "## Criando a estrutura de dados"
   ]
  },
  {
   "cell_type": "code",
   "execution_count": null,
   "metadata": {},
   "outputs": [],
   "source": []
  },
  {
   "cell_type": "markdown",
   "metadata": {},
   "source": [
    "## Main\n",
    "\n",
    "Utilize prints que se assemelhem com o proposto nos slides para facilitar a conferencia"
   ]
  },
  {
   "cell_type": "code",
   "execution_count": null,
   "metadata": {},
   "outputs": [],
   "source": []
  },
  {
   "cell_type": "markdown",
   "metadata": {},
   "source": [
    "# Segunda abordagem"
   ]
  },
  {
   "cell_type": "code",
   "execution_count": 4,
   "metadata": {},
   "outputs": [],
   "source": [
    "#estrutura do grafo dos slide como exemplo\n",
    "H = {'S': 10,\n",
    "    'A': 9,\n",
    "    'B': 7,\n",
    "    'C': 8,\n",
    "    'D': 8,\n",
    "    'E': 3,\n",
    "    'F': 6,\n",
    "    'G': 3,\n",
    "    'H': 6,\n",
    "    'I':4,\n",
    "    'J':4,\n",
    "    'K':5,\n",
    "    'L':6\n",
    "}"
   ]
  },
  {
   "cell_type": "markdown",
   "metadata": {},
   "source": [
    "## Criando a estrutura de dados"
   ]
  },
  {
   "cell_type": "code",
   "execution_count": null,
   "metadata": {},
   "outputs": [],
   "source": []
  },
  {
   "cell_type": "markdown",
   "metadata": {},
   "source": [
    "## Main\n",
    "\n",
    "Utilize prints que se assemelhem com o proposto nos slides para facilitar a conferencia"
   ]
  },
  {
   "cell_type": "code",
   "execution_count": null,
   "metadata": {},
   "outputs": [],
   "source": [
    "\n",
    "\n",
    "\n"
   ]
  }
 ],
 "metadata": {
  "kernelspec": {
   "display_name": "data_science",
   "language": "python",
   "name": "python3"
  },
  "language_info": {
   "codemirror_mode": {
    "name": "ipython",
    "version": 3
   },
   "file_extension": ".py",
   "mimetype": "text/x-python",
   "name": "python",
   "nbconvert_exporter": "python",
   "pygments_lexer": "ipython3",
   "version": "3.12.2"
  }
 },
 "nbformat": 4,
 "nbformat_minor": 2
}
